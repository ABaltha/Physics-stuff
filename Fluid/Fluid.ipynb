{
 "cells": [
  {
   "cell_type": "code",
   "execution_count": 92,
   "metadata": {
    "collapsed": false
   },
   "outputs": [
    {
     "data": {
      "image/png": "[encoded data removed]",
      "text/plain": [
       "<matplotlib.figure.Figure at 0x25dca8ef128>"
      ]
     },
     "metadata": {},
     "output_type": "display_data"
    },
    {
     "data": {
      "image/png": "[encoded data removed]",
      "text/plain": [
       "<matplotlib.figure.Figure at 0x25dca7c0d68>"
      ]
     },
     "metadata": {},
     "output_type": "display_data"
    },
    {
     "name": "stdout",
     "output_type": "stream",
     "text": [
      "Numero de interações: 11891\n",
      "Em um configuração bem estável, com w=0.1 e W = 8, é possivel rodar com Re = 20, porém chegando a Re = 25, não é possivel, mesmo se eu aumentar o tamanho da grade para 150,130. Se eu, porém, alterar o tamanho do objeto para, por exemplo, 15,15, consigo rodar Re = 25 até aprox 28, então preciso aumentar o valor da grade de novo, para 200,180, e mais um pouco no tamanho do obj (18,18) conseguindo rodar de 30 a\n"
     ]
    }
   ],
   "source": [
    "import numpy as np\n",
    "import matplotlib.pyplot as plt\n",
    "\n",
    "ep = 0.0001\n",
    "h = 1\n",
    "V0 = 1\n",
    "Nx,Ny = 70,50 #tamanho da grade\n",
    "maxdif = 1\n",
    "w = 0.2\n",
    "j = 0\n",
    "\n",
    "p = 25 # posiçao do obj\n",
    "W,T = 8,8 #tamanho do obj\n",
    "\n",
    "Re = 10\n",
    "R = Re/(2*W)\n",
    "\n",
    "Psi = np.empty([Nx+1,Ny+1])\n",
    "Psi[:,:] = 0\n",
    "\n",
    "nPsi = np.copy(Psi)\n",
    "\n",
    "Xi = np.empty([Nx+1,Ny+1])\n",
    "Xi[:,:] = 0\n",
    "\n",
    "dif = np.copy(Xi)\n",
    "\n",
    "for i in range (0,Ny):\n",
    "    Psi[:,i] = i+1\n",
    "Obj[2:5,0:2] = 1\n",
    "\n",
    "while maxdif > ep:  \n",
    "    \n",
    "    nPsi[1:-1,1:-1] = (1/4)*(Psi[2:,1:-1]+Psi[0:-2,1:-1]+Psi[1:-1,2:]+Psi[1:-1,0:-2]-Xi[1:-1,1:-1])\n",
    "\n",
    "    nPsi[:,0] = 0\n",
    "    Xi[:,0] = 0\n",
    "\n",
    "    Xi[0,:] = 0\n",
    "    nPsi[0,:] = np.copy(Psi[1,:])\n",
    "\n",
    "    Xi[:,Ny] = 0\n",
    "    nPsi[:,Ny] = np.copy(Psi[:,Ny-1]) + 1\n",
    "\n",
    "    nPsi[Nx,:] = np.copy(Psi[Nx-1,:])\n",
    "    Xi[Nx,:] = Xi[Nx-1,:]\n",
    "\n",
    "    nPsi[p:p+T,:W] = 0\n",
    "    Xi[p:p+T,W] = 2*np.copy(Psi[p:p+T,W+1])\n",
    "    Xi[p,:W] = 2*np.copy(Psi[p-1,:W])\n",
    "    Xi[p,:W] = 2*np.copy(Psi[p+1,W])\n",
    "\n",
    "    nPsi = (1 - w)*np.copy(Psi) + w*nPsi\n",
    "    \n",
    "    Xi[1:-1,1:-1] = (1/4)*(Xi[2:,1:-1]+Xi[0:-2,1:-1]+Xi[1:-1,2:]+Xi[1:-1,0:-2] - (R/4)*(((nPsi[1:-1,2:]-nPsi[1:-1,:-2])*(Xi[2:,1:-1]-Xi[:-2,1:-1]))-((nPsi[2:,1:-1]-nPsi[0:-2,1:-1])*(Xi[1:-1,2:]-Xi[1:-1,0:-2]))))\n",
    "\n",
    "    Xi[:,0] = 0\n",
    "\n",
    "    Xi[0,:] = 0\n",
    "\n",
    "    Xi[:,Ny] = 0\n",
    "\n",
    "    Xi[Nx,:] = Xi[Nx-1,:]\n",
    "\n",
    "    Xi[p:p+T,W] = 2*np.copy(Psi[p:p+T,W+1])\n",
    "    Xi[p,:W] = 2*np.copy(Psi[p-1,:W])\n",
    "    Xi[p,:W] = 2*np.copy(Psi[p+1,:W])\n",
    "\n",
    "\n",
    "    dif[:,:] = np.absolute((Psi - nPsi))\n",
    "    maxdif = np.amax(dif)\n",
    "    Psi = np.copy(nPsi)\n",
    "    j += 1\n",
    "\n",
    "psif = np.empty([2*Ny+1,Nx+1])\n",
    "psif[Ny:2*Ny+1,:Nx+1] = np.transpose(Psi)\n",
    "psif[0:Ny+1,:Nx+1] = np.flipud(np.transpose(Psi))\n",
    "\n",
    "plt.imshow(psif)\n",
    "plt.colorbar()\n",
    "plt.title(\"Psi, transposto\")\n",
    "plt.show()\n",
    "\n",
    "Xif = np.empty([2*Ny+1,Nx+1])\n",
    "Xif[Ny:2*Ny+1,:Nx+1] = np.transpose(Xi)\n",
    "Xif[0:Ny+1,:Nx+1] = np.flipud(np.transpose(Xi))\n",
    "\n",
    "plt.imshow(Xif)\n",
    "plt.colorbar()\n",
    "plt.title(\"Zeta, transposto\")\n",
    "plt.show()\n",
    "\n",
    "print(\"Numero de interações:\",j)\n",
    "print(\"Em um configuração bem estável, com w=0.2 e W = 8, é possivel rodar com Re = 20, porém chegando a Re = 25, não é possivel, mesmo se eu aumentar o tamanho da grade para 150,130. Se eu, porém, alterar o tamanho do objeto para, por exemplo, 15,15, consigo rodar Re = 25 até aprox 28, então preciso aumentar o valor da grade de novo, para 200,180, e mais um pouco no tamanho do obj (18,18) conseguindo rodar de 30 a\")"
   ]
  },
  {
   "cell_type": "code",
   "execution_count": null,
   "metadata": {
    "collapsed": true
   },
   "outputs": [],
   "source": []
  },
  {
   "cell_type": "code",
   "execution_count": null,
   "metadata": {
    "collapsed": true
   },
   "outputs": [],
   "source": []
  }
 ],
 "metadata": {
  "kernelspec": {
   "display_name": "Python 3",
   "language": "python",
   "name": "python3"
  },
  "language_info": {
   "codemirror_mode": {
    "name": "ipython",
    "version": 3
   },
   "file_extension": ".py",
   "mimetype": "text/x-python",
   "name": "python",
   "nbconvert_exporter": "python",
   "pygments_lexer": "ipython3",
   "version": "3.6.0"
  }
 },
 "nbformat": 4,
 "nbformat_minor": 2
}
