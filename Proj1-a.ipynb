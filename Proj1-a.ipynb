{
 "cells": [
  {
   "cell_type": "markdown",
   "metadata": {},
   "source": [
    "# Projeto 1 (Familiarização com as ferramentas)\n",
    "\n",
    "## Parte 1 (Python e notebook Jupyter)"
   ]
  },
  {
   "cell_type": "markdown",
   "metadata": {},
   "source": [
    "Você deve devolver este notebook com os códigos pedidos abaixo implementados e testados."
   ]
  },
  {
   "cell_type": "markdown",
   "metadata": {},
   "source": [
    "### Conjetura de Goldbach"
   ]
  },
  {
   "cell_type": "markdown",
   "metadata": {},
   "source": [
    "A conjutura de Goldbach diz que todos os inteiros pares maiores do que 2 podem ser representados como a soma de dois números primos. Por exemplo:\n",
    "\n",
    "    4    2+2\n",
    "    6    3+3\n",
    "    8    3+5\n",
    "    10   3+7 ou 5+5\n",
    "    12   5+7\n",
    "    14   3+11 ou 7+7\n",
    "    16   3+13 ou 5+11\n",
    "    18   5+13 ou 7+11\n",
    "    20   3+17 ou 7+13\n",
    "    22   3+19 ou 5+17 ou 11+11\n",
    "    ...\n",
    "\n",
    "Seu trabalho será fazer um programa para verificar essa conjetura até um dado valor inteiro, seguindo os passos seguintes.\n",
    "\n",
    "Em primeiro lugar, escreva uma função `primos_ate` que, dado um valor inteiro como argumento, retorne uma lista com todos os primos, em ordem, menores ou iguais a esse argumento. Por exemplo, a chamada\n",
    "\n",
    "    primos_ate(20)\n",
    "\n",
    "deve retornar\n",
    "\n",
    "    [2, 3, 5, 7, 11, 13, 17, 19]\n",
    "\n",
    "e a chamada\n",
    "\n",
    "    primos_ate(23)\n",
    "\n",
    "deve retornar\n",
    "\n",
    "    [2, 3, 5, 7, 11, 13, 17, 19, 23]\n"
   ]
  },
  {
   "cell_type": "code",
   "execution_count": null,
   "metadata": {
    "collapsed": true
   },
   "outputs": [],
   "source": [
    "def primos_ate(n):\n",
    "    pass # Substitua esse pass pelo código correto"
   ]
  },
  {
   "cell_type": "markdown",
   "metadata": {},
   "source": [
    "O segundo passo é implementar uma função `goldbach(i, primos)` que dado um inteiro positivo par `i` e uma lista de primos `primos` que possui todos os primos necessários e na ordem certa (do menor ao maior), retorne uma lista com todas as decomposições de Goldbach de `i`; cada decomposição é representada por uma tupla com os dois primos que somados dão `i`.\n",
    "\n",
    "Por exmeplo:\n",
    "\n",
    "    goldbach(2, [2, 3, 5, 7]) -> [(2,2)]\n",
    "    goldbach(10, [2, 3, 5, 7]) -> [(3, 7), (5, 5)]\n",
    "    goldbach(22, [2, 3, 5, 7, 11, 13, 17, 19]) -> [[3, 19), (5, 17), (11, 11)]\n",
    "\n",
    "A ordem em que as tuplas aparecem na lista ou a ordem dos elementos nas tuplas não é importante. Note que o usuário que fizer a chamada a esta função é responsável por garantir que hajam primos em quantidade suficiente na lista `primos`. Sua função não precisa testar se este é o caso, e se primos insuficientes forem passados a função pode simplesmente retornar uma lista com menos pares do que o correto. Por exemplo:\n",
    "\n",
    "    goldbach(10, [2, 3, 5]) -> [(5, 5)]"
   ]
  },
  {
   "cell_type": "code",
   "execution_count": null,
   "metadata": {
    "collapsed": true
   },
   "outputs": [],
   "source": [
    "def goldbach(i, primos):\n",
    "    pass # Substitua este pass pelo seu código."
   ]
  },
  {
   "cell_type": "markdown",
   "metadata": {},
   "source": [
    "Por fim, escreva um código que use as funções acima e imprima (com `print`) cada número par maior do que 2 seguido na mesma linha pelas possíveis decomposições em primos:\n",
    "\n",
    "    4:  2 + 2\n",
    "    6:  3 + 3\n",
    "    8:  3 + 5\n",
    "    10:  3 + 7, 5 + 5\n",
    "    ...\n",
    "\n",
    "Isso deve ser continuado até o valor da variável `N` defindo abaixo (teste primeiro com `N` pequeno e aumente quando o código parecer correto)."
   ]
  },
  {
   "cell_type": "code",
   "execution_count": null,
   "metadata": {
    "collapsed": true
   },
   "outputs": [],
   "source": [
    "N = 10000\n",
    "# Coloque seu código aqui."
   ]
  },
  {
   "cell_type": "code",
   "execution_count": null,
   "metadata": {
    "collapsed": true
   },
   "outputs": [],
   "source": []
  }
 ],
 "metadata": {
  "kernelspec": {
   "display_name": "Python [conda root]",
   "language": "python",
   "name": "conda-root-py"
  },
  "language_info": {
   "codemirror_mode": {
    "name": "ipython",
    "version": 3
   },
   "file_extension": ".py",
   "mimetype": "text/x-python",
   "name": "python",
   "nbconvert_exporter": "python",
   "pygments_lexer": "ipython3",
   "version": "3.5.2"
  }
 },
 "nbformat": 4,
 "nbformat_minor": 2
}
